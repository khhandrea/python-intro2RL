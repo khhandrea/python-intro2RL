{
 "cells": [
  {
   "cell_type": "code",
   "execution_count": 172,
   "metadata": {},
   "outputs": [],
   "source": [
    "from random import random, choice\n",
    "from matplotlib import pyplot as plt\n",
    "import numpy as np\n",
    "import gymnasium as gym"
   ]
  },
  {
   "cell_type": "code",
   "execution_count": 173,
   "metadata": {},
   "outputs": [],
   "source": [
    "num_episodes = 500\n",
    "gamma = 1"
   ]
  },
  {
   "cell_type": "code",
   "execution_count": 174,
   "metadata": {},
   "outputs": [],
   "source": [
    "class LinearSarsa():\n",
    "    def __init__(self, num_features):\n",
    "        self.w = np.random.rand(num_features)\n",
    "        self.iteration = 0\n",
    "        self.epsilon = 1\n",
    "        self.alpha = 1\n",
    "\n",
    "    def _q_hat(self, states, action):\n",
    "        features = np.append(states, action)\n",
    "        return np.dot(features, self.w)\n",
    "\n",
    "    def predict(self, states):\n",
    "        self.iteration += 1\n",
    "        self.epsilon = 1 / self.iteration\n",
    "        self.alpha = 1 / self.iteration\n",
    "\n",
    "        actions = [0, 1]\n",
    "\n",
    "        # Policy iteration\n",
    "        if random() < self.epsilon:\n",
    "            # Exploration (random)\n",
    "            return choice(actions)    \n",
    "        # Greedy\n",
    "        return 1 if self._q_hat(states, 1) > self._q_hat(states, 0) else 0\n",
    "        \n",
    "    def control(self, states, action, reward, next_states):\n",
    "        # Policy evaluation\n",
    "        next_action = self.predict(states)\n",
    "\n",
    "        td_target = reward + gamma * self._q_hat(next_states, next_action)\n",
    "        td_error = td_target - self._q_hat(states, action)\n",
    "        features = np.append(states, action)\n",
    "        delta = self.alpha * td_error * features\n",
    "\n",
    "        # Update parameters\n",
    "        self.w += delta"
   ]
  },
  {
   "cell_type": "code",
   "execution_count": 175,
   "metadata": {},
   "outputs": [],
   "source": [
    "env_name = \"CartPole-v1\"\n",
    "# env = gym.make(env_name, render_mode=\"human\") # Visible\n",
    "env = gym.make(env_name)\n",
    "\n",
    "sarsa = LinearSarsa(5)\n",
    "\n",
    "\n",
    "try:\n",
    "    rewards = []\n",
    "    for ep in range(num_episodes):\n",
    "        observation, info = env.reset()\n",
    "\n",
    "        for time in range(1000):\n",
    "            action = sarsa.predict(observation)\n",
    "            next_observation, reward, terminated, truncated, info = env.step(action)\n",
    "            \n",
    "            if terminated or truncated:\n",
    "                rewards.append(time + 1)\n",
    "                break\n",
    " \n",
    "            sarsa.control(observation, action, reward, next_observation)\n",
    "            observation = next_observation\n",
    "finally:\n",
    "    env.close()"
   ]
  },
  {
   "cell_type": "code",
   "execution_count": 176,
   "metadata": {},
   "outputs": [],
   "source": [
    "env = gym.make(env_name, render_mode=\"human\") # Visible\n",
    "try:\n",
    "    observation, info = env.reset()\n",
    "    action = sarsa.predict(observation)\n",
    "\n",
    "    for _ in range(1000):\n",
    "        next_observation, reward, terminated, truncated, info = env.step(action)\n",
    "        \n",
    "        if terminated or truncated:\n",
    "            break\n",
    "\n",
    "        next_action = sarsa.predict(next_observation)\n",
    "        sarsa.control(observation, action, reward, next_observation)\n",
    "finally:\n",
    "    env.close()"
   ]
  },
  {
   "cell_type": "code",
   "execution_count": 177,
   "metadata": {},
   "outputs": [
    {
     "data": {
      "image/png": "[encoded data removed]",
      "text/plain": [
       "<Figure size 640x480 with 1 Axes>"
      ]
     },
     "metadata": {},
     "output_type": "display_data"
    }
   ],
   "source": [
    "plt.plot(rewards)\n",
    "plt.ylim(0, 50)\n",
    "plt.show()"
   ]
  }
 ],
 "metadata": {
  "kernelspec": {
   "display_name": "python-intro2RL",
   "language": "python",
   "name": "khhandrea"
  },
  "language_info": {
   "codemirror_mode": {
    "name": "ipython",
    "version": 3
   },
   "file_extension": ".py",
   "mimetype": "text/x-python",
   "name": "python",
   "nbconvert_exporter": "python",
   "pygments_lexer": "ipython3",
   "version": "3.9.13"
  },
  "orig_nbformat": 4
 },
 "nbformat": 4,
 "nbformat_minor": 2
}
